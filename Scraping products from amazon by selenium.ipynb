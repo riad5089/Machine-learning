{
 "cells": [
  {
   "cell_type": "code",
   "execution_count": 1,
   "id": "c4741423",
   "metadata": {},
   "outputs": [],
   "source": [
    "from selenium import webdriver\n",
    "from time import sleep\n",
    "from selenium.webdriver.common.by import By\n"
   ]
  },
  {
   "cell_type": "code",
   "execution_count": 2,
   "id": "de65cde2",
   "metadata": {},
   "outputs": [],
   "source": [
    "path=r'C:\\Users\\Abdur rahim nishad\\Mastercourse\\chromedriver.exe'"
   ]
  },
  {
   "cell_type": "code",
   "execution_count": 3,
   "id": "548a9b6e",
   "metadata": {},
   "outputs": [
    {
     "name": "stderr",
     "output_type": "stream",
     "text": [
      "C:\\Users\\ABDURR~1\\AppData\\Local\\Temp/ipykernel_10636/1199123189.py:1: DeprecationWarning: executable_path has been deprecated, please pass in a Service object\n",
      "  browser=webdriver.Chrome(path)\n"
     ]
    }
   ],
   "source": [
    "browser=webdriver.Chrome(path)"
   ]
  },
  {
   "cell_type": "code",
   "execution_count": 4,
   "id": "c09d265a",
   "metadata": {},
   "outputs": [],
   "source": [
    "#load the webpage\n",
    "browser.get('https://www.amazon.in')\n"
   ]
  },
  {
   "cell_type": "code",
   "execution_count": 5,
   "id": "fd0eccee",
   "metadata": {},
   "outputs": [],
   "source": [
    "# browser.maximize_window()"
   ]
  },
  {
   "cell_type": "code",
   "execution_count": 6,
   "id": "74e697b7",
   "metadata": {},
   "outputs": [],
   "source": [
    "input_search=browser.find_element(By.ID,'twotabsearchtextbox')\n",
    "search_button=browser.find_element(By.XPATH, \"(//input[@type='submit'])\")\n"
   ]
  },
  {
   "cell_type": "code",
   "execution_count": 39,
   "id": "8a89e488",
   "metadata": {},
   "outputs": [
    {
     "data": {
      "text/plain": [
       "<selenium.webdriver.remote.webelement.WebElement (session=\"39d0b5ef2b0c81315070302af2d35a04\", element=\"29AE49C11EA72851795D3C1CC1011A7E_element_45\")>"
      ]
     },
     "execution_count": 39,
     "metadata": {},
     "output_type": "execute_result"
    }
   ],
   "source": [
    "search_button"
   ]
  },
  {
   "cell_type": "code",
   "execution_count": 7,
   "id": "022be076",
   "metadata": {},
   "outputs": [],
   "source": [
    "input_search.send_keys('Smartphones under 10000')\n",
    "sleep(1)\n",
    "search_button.click()"
   ]
  },
  {
   "cell_type": "code",
   "execution_count": 47,
   "id": "dd9f9958",
   "metadata": {},
   "outputs": [],
   "source": [
    "product_class=\"a-size-medium a-color-base a-text-normal\"\n",
    "next_button= browser.find_element(By.CLASS_NAME,\"s-pagination-strip\").text"
   ]
  },
  {
   "cell_type": "code",
   "execution_count": 51,
   "id": "21dc7e7c",
   "metadata": {},
   "outputs": [
    {
     "data": {
      "text/plain": [
       "<selenium.webdriver.remote.webelement.WebElement (session=\"39d0b5ef2b0c81315070302af2d35a04\", element=\"317E13AA40AF22AC19CE3A6FC95A91A8_element_824\")>"
      ]
     },
     "execution_count": 51,
     "metadata": {},
     "output_type": "execute_result"
    }
   ],
   "source": [
    "browser.find_element(By.CLASS_NAME,'s-pagination-item')"
   ]
  },
  {
   "cell_type": "code",
   "execution_count": 54,
   "id": "e0d20107",
   "metadata": {},
   "outputs": [
    {
     "ename": "NameError",
     "evalue": "name 'driver' is not defined",
     "output_type": "error",
     "traceback": [
      "\u001b[1;31m---------------------------------------------------------------------------\u001b[0m",
      "\u001b[1;31mNameError\u001b[0m                                 Traceback (most recent call last)",
      "\u001b[1;32mC:\\Users\\ABDURR~1\\AppData\\Local\\Temp/ipykernel_10636/2427583789.py\u001b[0m in \u001b[0;36m<cell line: 1>\u001b[1;34m()\u001b[0m\n\u001b[1;32m----> 1\u001b[1;33m \u001b[0mlink_elements\u001b[0m \u001b[1;33m=\u001b[0m \u001b[0mdriver\u001b[0m\u001b[1;33m.\u001b[0m\u001b[0mfind_elements_by_tag_name\u001b[0m\u001b[1;33m(\u001b[0m\u001b[1;34m'a'\u001b[0m\u001b[1;33m)\u001b[0m\u001b[1;33m.\u001b[0m\u001b[0mtext\u001b[0m\u001b[1;33m\u001b[0m\u001b[1;33m\u001b[0m\u001b[0m\n\u001b[0m\u001b[0;32m      2\u001b[0m \u001b[1;33m\u001b[0m\u001b[0m\n\u001b[0;32m      3\u001b[0m \u001b[0mlinks\u001b[0m \u001b[1;33m=\u001b[0m \u001b[1;33m[\u001b[0m\u001b[1;33m]\u001b[0m\u001b[1;33m\u001b[0m\u001b[1;33m\u001b[0m\u001b[0m\n\u001b[0;32m      4\u001b[0m \u001b[1;32mfor\u001b[0m \u001b[0mlink\u001b[0m \u001b[1;32min\u001b[0m \u001b[0mlink_elements\u001b[0m\u001b[1;33m:\u001b[0m\u001b[1;33m\u001b[0m\u001b[1;33m\u001b[0m\u001b[0m\n\u001b[0;32m      5\u001b[0m     \u001b[0mhref\u001b[0m \u001b[1;33m=\u001b[0m \u001b[0mlink\u001b[0m\u001b[1;33m.\u001b[0m\u001b[0mget_attribute\u001b[0m\u001b[1;33m(\u001b[0m\u001b[1;34m'href'\u001b[0m\u001b[1;33m)\u001b[0m\u001b[1;33m\u001b[0m\u001b[1;33m\u001b[0m\u001b[0m\n",
      "\u001b[1;31mNameError\u001b[0m: name 'driver' is not defined"
     ]
    }
   ],
   "source": []
  },
  {
   "cell_type": "code",
   "execution_count": null,
   "id": "76777ea7",
   "metadata": {},
   "outputs": [],
   "source": [
    "class=\"s-pagination-item s-pagination-next s-pagination-button s-pagination-separator"
   ]
  },
  {
   "cell_type": "code",
   "execution_count": null,
   "id": "2be5a132",
   "metadata": {},
   "outputs": [],
   "source": []
  },
  {
   "cell_type": "code",
   "execution_count": null,
   "id": "abb64b47",
   "metadata": {},
   "outputs": [],
   "source": [
    "products=[]\n",
    "for i in range(10):\n",
    "    print('Scraping page',i+1)\n",
    "    product=browser.find_element(By.CLASS_NAME,product_class)\n",
    "    products.extend(product)\n",
    "    next_button.click()"
   ]
  }
 ],
 "metadata": {
  "kernelspec": {
   "display_name": "Python 3 (ipykernel)",
   "language": "python",
   "name": "python3"
  },
  "language_info": {
   "codemirror_mode": {
    "name": "ipython",
    "version": 3
   },
   "file_extension": ".py",
   "mimetype": "text/x-python",
   "name": "python",
   "nbconvert_exporter": "python",
   "pygments_lexer": "ipython3",
   "version": "3.9.7"
  }
 },
 "nbformat": 4,
 "nbformat_minor": 5
}
