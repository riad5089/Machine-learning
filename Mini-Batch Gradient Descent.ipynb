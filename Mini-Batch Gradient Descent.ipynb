{
 "cells": [
  {
   "cell_type": "code",
   "execution_count": 1,
   "id": "8db3b507",
   "metadata": {},
   "outputs": [],
   "source": [
    "from sklearn.datasets import load_diabetes\n",
    "import numpy as np\n",
    "from sklearn.linear_model import LinearRegression\n",
    "from sklearn.metrics import r2_score\n",
    "from sklearn.model_selection import train_test_split\n"
   ]
  },
  {
   "cell_type": "code",
   "execution_count": 2,
   "id": "65a0c4fe",
   "metadata": {},
   "outputs": [],
   "source": [
    "X,y=load_diabetes( return_X_y=True)"
   ]
  },
  {
   "cell_type": "code",
   "execution_count": 3,
   "id": "cfe05397",
   "metadata": {},
   "outputs": [
    {
     "data": {
      "text/plain": [
       "array([[ 0.03807591,  0.05068012,  0.06169621, ..., -0.00259226,\n",
       "         0.01990842, -0.01764613],\n",
       "       [-0.00188202, -0.04464164, -0.05147406, ..., -0.03949338,\n",
       "        -0.06832974, -0.09220405],\n",
       "       [ 0.08529891,  0.05068012,  0.04445121, ..., -0.00259226,\n",
       "         0.00286377, -0.02593034],\n",
       "       ...,\n",
       "       [ 0.04170844,  0.05068012, -0.01590626, ..., -0.01107952,\n",
       "        -0.04687948,  0.01549073],\n",
       "       [-0.04547248, -0.04464164,  0.03906215, ...,  0.02655962,\n",
       "         0.04452837, -0.02593034],\n",
       "       [-0.04547248, -0.04464164, -0.0730303 , ..., -0.03949338,\n",
       "        -0.00421986,  0.00306441]])"
      ]
     },
     "execution_count": 3,
     "metadata": {},
     "output_type": "execute_result"
    }
   ],
   "source": [
    "X"
   ]
  },
  {
   "cell_type": "code",
   "execution_count": 4,
   "id": "38d97e8c",
   "metadata": {},
   "outputs": [],
   "source": [
    "x_train,x_test,y_train,y_test=train_test_split(X,y,test_size=.2,random_state=2)"
   ]
  },
  {
   "cell_type": "code",
   "execution_count": 5,
   "id": "71f47806",
   "metadata": {},
   "outputs": [],
   "source": [
    "reg=LinearRegression()"
   ]
  },
  {
   "cell_type": "code",
   "execution_count": 6,
   "id": "1ab49c63",
   "metadata": {},
   "outputs": [
    {
     "data": {
      "text/plain": [
       "LinearRegression()"
      ]
     },
     "execution_count": 6,
     "metadata": {},
     "output_type": "execute_result"
    }
   ],
   "source": [
    "reg.fit(x_train,y_train)"
   ]
  },
  {
   "cell_type": "code",
   "execution_count": 7,
   "id": "073f3c59",
   "metadata": {},
   "outputs": [
    {
     "data": {
      "text/plain": [
       "(353, 10)"
      ]
     },
     "execution_count": 7,
     "metadata": {},
     "output_type": "execute_result"
    }
   ],
   "source": [
    "x_train.shape"
   ]
  },
  {
   "cell_type": "code",
   "execution_count": 8,
   "id": "9d9c3c1d",
   "metadata": {},
   "outputs": [
    {
     "data": {
      "text/plain": [
       "array([  -9.16088483, -205.46225988,  516.68462383,  340.62734108,\n",
       "       -895.54360867,  561.21453306,  153.88478595,  126.73431596,\n",
       "        861.12139955,   52.41982836])"
      ]
     },
     "execution_count": 8,
     "metadata": {},
     "output_type": "execute_result"
    }
   ],
   "source": [
    "reg.coef_"
   ]
  },
  {
   "cell_type": "code",
   "execution_count": 9,
   "id": "f3069a1e",
   "metadata": {},
   "outputs": [
    {
     "data": {
      "text/plain": [
       "151.88334520854633"
      ]
     },
     "execution_count": 9,
     "metadata": {},
     "output_type": "execute_result"
    }
   ],
   "source": [
    "reg.intercept_"
   ]
  },
  {
   "cell_type": "code",
   "execution_count": 10,
   "id": "1f733c87",
   "metadata": {},
   "outputs": [],
   "source": [
    "y_pred=reg.predict(x_test)"
   ]
  },
  {
   "cell_type": "code",
   "execution_count": 11,
   "id": "b7af702e",
   "metadata": {},
   "outputs": [
    {
     "data": {
      "text/plain": [
       "0.4399387660024645"
      ]
     },
     "execution_count": 11,
     "metadata": {},
     "output_type": "execute_result"
    }
   ],
   "source": [
    "r2_score(y_test,y_pred)"
   ]
  },
  {
   "cell_type": "code",
   "execution_count": 71,
   "id": "2e7802b1",
   "metadata": {},
   "outputs": [],
   "source": [
    "class mini_batch_gd:\n",
    "    def __init__(self,batch_size,learning_rate=.01,epochs=100):\n",
    "        self.coef_=None\n",
    "        self.intercept_=None\n",
    "        self.lr=learning_rate\n",
    "        self.epochs=epochs\n",
    "        self.batch_size=batch_size\n",
    "    def fit(self,x_train,y_train):\n",
    "        self.intercept_=0\n",
    "        self.coef_=np.ones(x_train.shape[1])\n",
    "        \n",
    "        for i in range(self.epochs):\n",
    "            for j in range(int(x_train.shape[0]/self.batch_size)):\n",
    "                idx=random.sample(range(x_train.shape[0]),self.batch_size)\n",
    "                #idx=np.random.randint(1,range(x_train.shape[0]),self.batch_size)\n",
    "                y_hat=np.dot(x_train[idx],self.coef_)+self.intercept_ \n",
    "                #print(y_hat)\n",
    "                intercept_der=-2*np.mean(y_train[idx]-y_hat)\n",
    "\n",
    "                self.intercept_=self.intercept_-(self.lr*intercept_der)\n",
    "\n",
    "                coef_der= -2*np.dot((y_train[idx]-y_hat),x_train[idx])/x_train.shape[0]\n",
    "                self.coef_=self.coef_-(self.lr*coef_der)\n",
    "        print(self.intercept_,self.coef_)\n",
    "    def predict(self,x_test):\n",
    "        return np.dot(x_test,self.coef_)+self.intercept_\n",
    "        "
   ]
  },
  {
   "cell_type": "code",
   "execution_count": 72,
   "id": "c332dde7",
   "metadata": {},
   "outputs": [
    {
     "data": {
      "text/plain": [
       "array([86, 15, 29, 30, 50, 35, 73, 82, 35, 92])"
      ]
     },
     "execution_count": 72,
     "metadata": {},
     "output_type": "execute_result"
    }
   ],
   "source": [
    "np.random.randint(1,100,10)"
   ]
  },
  {
   "cell_type": "code",
   "execution_count": 73,
   "id": "c18adc6e",
   "metadata": {},
   "outputs": [],
   "source": [
    "# import random\n",
    "# random.sample(1,100,10)"
   ]
  },
  {
   "cell_type": "code",
   "execution_count": 74,
   "id": "d7e1198a",
   "metadata": {},
   "outputs": [
    {
     "data": {
      "text/plain": [
       "array([[ 0.0090156 ,  0.05068012, -0.00512814, -0.06419941,  0.06998059,\n",
       "         0.0838625 , -0.03971921,  0.07120998,  0.03953988,  0.01963284],\n",
       "       [-0.02367725, -0.04464164,  0.03043966, -0.00567061,  0.08236416,\n",
       "         0.09200436, -0.01762938,  0.07120998,  0.03304707,  0.00306441],\n",
       "       [ 0.00538306,  0.05068012,  0.03043966,  0.08384403, -0.03734373,\n",
       "        -0.0473467 ,  0.01550536, -0.03949338,  0.00864028,  0.01549073],\n",
       "       [ 0.06713621,  0.05068012, -0.01482845,  0.05859631, -0.05935898,\n",
       "        -0.03450761, -0.06180903,  0.01290621, -0.00514531,  0.04862759],\n",
       "       [-0.01277963,  0.05068012, -0.05578531, -0.00222774, -0.02771206,\n",
       "        -0.02918409,  0.019187  , -0.03949338, -0.0170521 ,  0.04448548],\n",
       "       [ 0.01991321,  0.05068012,  0.10480869,  0.07007254, -0.03596778,\n",
       "        -0.0266789 , -0.02499266, -0.00259226,  0.00371174,  0.04034337],\n",
       "       [-0.08906294, -0.04464164, -0.01159501, -0.03665645,  0.01219057,\n",
       "         0.02499059, -0.03603757,  0.03430886,  0.02269202, -0.00936191],\n",
       "       [-0.09632802, -0.04464164, -0.08380842,  0.00810087, -0.10338947,\n",
       "        -0.09056119, -0.01394774, -0.0763945 , -0.06291295, -0.03421455],\n",
       "       [ 0.03807591,  0.05068012, -0.02991782, -0.04009932, -0.03321588,\n",
       "        -0.02417372, -0.01026611, -0.00259226, -0.01290794,  0.00306441],\n",
       "       [ 0.06713621, -0.04464164, -0.03854032, -0.02632783, -0.03183992,\n",
       "        -0.02636575,  0.00814208, -0.03949338, -0.02712865,  0.00306441]])"
      ]
     },
     "execution_count": 74,
     "metadata": {},
     "output_type": "execute_result"
    }
   ],
   "source": [
    "x_train[[12, 52, 90, 33, 91, 23, 47, 13, 11, 55]]"
   ]
  },
  {
   "cell_type": "code",
   "execution_count": 75,
   "id": "eea0fbda",
   "metadata": {},
   "outputs": [],
   "source": [
    "mbg=mini_batch_gd(batch_size=int(x_train.shape[0]/10),learning_rate=0.1,epochs=100)"
   ]
  },
  {
   "cell_type": "code",
   "execution_count": 76,
   "id": "4aa3a93e",
   "metadata": {},
   "outputs": [
    {
     "name": "stdout",
     "output_type": "stream",
     "text": [
      "146.62898107301507 [ 15.65074189   3.91842064  41.90662872  32.14649953  14.58759273\n",
      "  11.2305497  -24.82734049  27.42505331  41.224343    24.77031114]\n"
     ]
    }
   ],
   "source": [
    "mbg.fit(x_train,y_train)"
   ]
  },
  {
   "cell_type": "code",
   "execution_count": 51,
   "id": "ad92549e",
   "metadata": {},
   "outputs": [],
   "source": [
    "y_pred=mbg.predict(x_test)"
   ]
  },
  {
   "cell_type": "code",
   "execution_count": 52,
   "id": "1ea62476",
   "metadata": {},
   "outputs": [
    {
     "data": {
      "text/plain": [
       "0.09784520415909459"
      ]
     },
     "execution_count": 52,
     "metadata": {},
     "output_type": "execute_result"
    }
   ],
   "source": [
    "r2_score(y_test,y_pred)"
   ]
  },
  {
   "cell_type": "code",
   "execution_count": 53,
   "id": "f3b75a52",
   "metadata": {},
   "outputs": [],
   "source": [
    "from sklearn.linear_model import SGDRegressor"
   ]
  },
  {
   "cell_type": "code",
   "execution_count": 55,
   "id": "d747f2b9",
   "metadata": {},
   "outputs": [],
   "source": [
    "sgd=SGDRegressor(learning_rate=\"constant\",eta0=.2)"
   ]
  },
  {
   "cell_type": "code",
   "execution_count": 77,
   "id": "07ec7178",
   "metadata": {},
   "outputs": [],
   "source": [
    "batch_size=35\n",
    "for i in range(100):\n",
    "    idx=random.sample(range(x_train.shape[0]),batch_size)\n",
    "    sgd.partial_fit(x_train[idx],y_train[idx])"
   ]
  },
  {
   "cell_type": "code",
   "execution_count": 78,
   "id": "c705a655",
   "metadata": {},
   "outputs": [
    {
     "data": {
      "text/plain": [
       "array([  -4.00259447, -181.18021107,  509.15703377,  338.46818028,\n",
       "        -72.78658028, -145.80911842, -191.87463994,   83.34881435,\n",
       "        465.2303642 ,  102.14994023])"
      ]
     },
     "execution_count": 78,
     "metadata": {},
     "output_type": "execute_result"
    }
   ],
   "source": [
    "sgd.coef_"
   ]
  },
  {
   "cell_type": "code",
   "execution_count": 79,
   "id": "42cb11e2",
   "metadata": {},
   "outputs": [
    {
     "data": {
      "text/plain": [
       "array([148.80592076])"
      ]
     },
     "execution_count": 79,
     "metadata": {},
     "output_type": "execute_result"
    }
   ],
   "source": [
    "sgd.intercept_"
   ]
  },
  {
   "cell_type": "code",
   "execution_count": 80,
   "id": "42030921",
   "metadata": {},
   "outputs": [],
   "source": [
    "y_pred=sgd.predict(x_test)"
   ]
  },
  {
   "cell_type": "code",
   "execution_count": 82,
   "id": "bd4900c3",
   "metadata": {},
   "outputs": [
    {
     "data": {
      "text/plain": [
       "0.44668580101964317"
      ]
     },
     "execution_count": 82,
     "metadata": {},
     "output_type": "execute_result"
    }
   ],
   "source": [
    "r2_score(y_test,y_pred)"
   ]
  },
  {
   "cell_type": "code",
   "execution_count": null,
   "id": "d87eaf7d",
   "metadata": {},
   "outputs": [],
   "source": []
  }
 ],
 "metadata": {
  "kernelspec": {
   "display_name": "Python 3 (ipykernel)",
   "language": "python",
   "name": "python3"
  },
  "language_info": {
   "codemirror_mode": {
    "name": "ipython",
    "version": 3
   },
   "file_extension": ".py",
   "mimetype": "text/x-python",
   "name": "python",
   "nbconvert_exporter": "python",
   "pygments_lexer": "ipython3",
   "version": "3.9.7"
  }
 },
 "nbformat": 4,
 "nbformat_minor": 5
}
