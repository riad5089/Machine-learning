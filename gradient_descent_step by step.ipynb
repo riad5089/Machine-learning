{
 "cells": [
  {
   "cell_type": "code",
   "execution_count": 1,
   "id": "df6c8355",
   "metadata": {},
   "outputs": [],
   "source": [
    "from sklearn.datasets import make_regression\n",
    "import numpy as np"
   ]
  },
  {
   "cell_type": "code",
   "execution_count": 2,
   "id": "8f41abfa",
   "metadata": {},
   "outputs": [],
   "source": [
    "X,y=make_regression(n_samples=4,n_features=1,n_informative=1,n_targets=1,noise=80,random_state=13)"
   ]
  },
  {
   "cell_type": "code",
   "execution_count": 33,
   "id": "f273a2c5",
   "metadata": {},
   "outputs": [
    {
     "data": {
      "text/plain": [
       "array([  7.21786552,  16.04609925, -27.83756166, 144.36688189])"
      ]
     },
     "execution_count": 33,
     "metadata": {},
     "output_type": "execute_result"
    }
   ],
   "source": [
    "y"
   ]
  },
  {
   "cell_type": "code",
   "execution_count": 3,
   "id": "1b874b07",
   "metadata": {},
   "outputs": [
    {
     "data": {
      "text/plain": [
       "array([-0.71239066,  0.45181234, -0.04450308,  0.75376638])"
      ]
     },
     "execution_count": 3,
     "metadata": {},
     "output_type": "execute_result"
    }
   ],
   "source": [
    "X.ravel()"
   ]
  },
  {
   "cell_type": "code",
   "execution_count": 4,
   "id": "3a0e2404",
   "metadata": {},
   "outputs": [
    {
     "data": {
      "text/plain": [
       "(4, 1)"
      ]
     },
     "execution_count": 4,
     "metadata": {},
     "output_type": "execute_result"
    }
   ],
   "source": [
    "X.shape"
   ]
  },
  {
   "cell_type": "code",
   "execution_count": 5,
   "id": "2a77af47",
   "metadata": {},
   "outputs": [
    {
     "data": {
      "text/plain": [
       "(4,)"
      ]
     },
     "execution_count": 5,
     "metadata": {},
     "output_type": "execute_result"
    }
   ],
   "source": [
    "y.shape"
   ]
  },
  {
   "cell_type": "code",
   "execution_count": 6,
   "id": "477c3f6b",
   "metadata": {},
   "outputs": [
    {
     "data": {
      "text/plain": [
       "<matplotlib.collections.PathCollection at 0x249286ab7f0>"
      ]
     },
     "execution_count": 6,
     "metadata": {},
     "output_type": "execute_result"
    },
    {
     "data": {
      "image/png": "[encoded data removed]",
      "text/plain": [
       "<Figure size 432x288 with 1 Axes>"
      ]
     },
     "metadata": {
      "needs_background": "light"
     },
     "output_type": "display_data"
    }
   ],
   "source": [
    "import matplotlib.pyplot as plt\n",
    "plt.scatter(X,y)"
   ]
  },
  {
   "cell_type": "code",
   "execution_count": 7,
   "id": "f43d9b20",
   "metadata": {},
   "outputs": [],
   "source": [
    "#lets apply ols\n",
    "from sklearn.linear_model import LinearRegression"
   ]
  },
  {
   "cell_type": "code",
   "execution_count": 8,
   "id": "a74aa8ef",
   "metadata": {},
   "outputs": [
    {
     "data": {
      "text/plain": [
       "LinearRegression()"
      ]
     },
     "execution_count": 8,
     "metadata": {},
     "output_type": "execute_result"
    }
   ],
   "source": [
    "reg=LinearRegression()\n",
    "reg.fit(X,y)"
   ]
  },
  {
   "cell_type": "code",
   "execution_count": 9,
   "id": "c9782680",
   "metadata": {},
   "outputs": [
    {
     "data": {
      "text/plain": [
       "array([78.35063668])"
      ]
     },
     "execution_count": 9,
     "metadata": {},
     "output_type": "execute_result"
    }
   ],
   "source": [
    "reg.coef_"
   ]
  },
  {
   "cell_type": "code",
   "execution_count": 10,
   "id": "f2f6142b",
   "metadata": {},
   "outputs": [
    {
     "data": {
      "text/plain": [
       "26.15963284313262"
      ]
     },
     "execution_count": 10,
     "metadata": {},
     "output_type": "execute_result"
    }
   ],
   "source": [
    "reg.intercept_"
   ]
  },
  {
   "cell_type": "code",
   "execution_count": 11,
   "id": "244765f1",
   "metadata": {},
   "outputs": [
    {
     "data": {
      "text/plain": [
       "[<matplotlib.lines.Line2D at 0x2492a0ce850>]"
      ]
     },
     "execution_count": 11,
     "metadata": {},
     "output_type": "execute_result"
    },
    {
     "data": {
      "image/png": "[encoded data removed]",
      "text/plain": [
       "<Figure size 432x288 with 1 Axes>"
      ]
     },
     "metadata": {
      "needs_background": "light"
     },
     "output_type": "display_data"
    }
   ],
   "source": [
    "plt.scatter(X,y)\n",
    "plt.plot(X,reg.predict(X),color=\"red\")"
   ]
  },
  {
   "cell_type": "code",
   "execution_count": 12,
   "id": "915a6f39",
   "metadata": {},
   "outputs": [],
   "source": [
    "# Lets apply Gradient Descent assuming slope is constant m = 78.35\n",
    "# and let's assume the starting value for intercept b = 0\n",
    "\n",
    "y_pred=((78.35*X)+100).reshape(4) #lets b=100"
   ]
  },
  {
   "cell_type": "code",
   "execution_count": 13,
   "id": "db69cf58",
   "metadata": {},
   "outputs": [
    {
     "data": {
      "text/plain": [
       "(4,)"
      ]
     },
     "execution_count": 13,
     "metadata": {},
     "output_type": "execute_result"
    }
   ],
   "source": [
    "y_pred.shape"
   ]
  },
  {
   "cell_type": "code",
   "execution_count": 14,
   "id": "9d595374",
   "metadata": {},
   "outputs": [
    {
     "data": {
      "text/plain": [
       "array([ 44.18419163, 135.39949674,  96.51318381, 159.05759577])"
      ]
     },
     "execution_count": 14,
     "metadata": {},
     "output_type": "execute_result"
    }
   ],
   "source": [
    "y_pred"
   ]
  },
  {
   "cell_type": "code",
   "execution_count": 15,
   "id": "dc8a96b6",
   "metadata": {},
   "outputs": [
    {
     "data": {
      "text/plain": [
       "<matplotlib.legend.Legend at 0x2492a152c40>"
      ]
     },
     "execution_count": 15,
     "metadata": {},
     "output_type": "execute_result"
    },
    {
     "data": {
      "image/png": "[encoded data removed]",
      "text/plain": [
       "<Figure size 432x288 with 1 Axes>"
      ]
     },
     "metadata": {
      "needs_background": "light"
     },
     "output_type": "display_data"
    }
   ],
   "source": [
    "plt.scatter(X,y)\n",
    "plt.plot(X,reg.predict(X),color=\"red\",label=\"ols\")\n",
    "plt.plot(X,y_pred,color=\"b\",label=\"mera\")\n",
    "plt.legend()"
   ]
  },
  {
   "cell_type": "code",
   "execution_count": 16,
   "id": "8ba65ad2",
   "metadata": {},
   "outputs": [],
   "source": [
    "m = 78.35\n",
    "b=100\n",
    "loss_slope= -2 * sum(y-m*X.ravel()-b) #for using rable loss_slopw will be 1 diamention"
   ]
  },
  {
   "cell_type": "code",
   "execution_count": 17,
   "id": "1fe87e06",
   "metadata": {},
   "outputs": [
    {
     "data": {
      "text/plain": [
       "590.7223659179078"
      ]
     },
     "execution_count": 17,
     "metadata": {},
     "output_type": "execute_result"
    }
   ],
   "source": [
    "loss_slope"
   ]
  },
  {
   "cell_type": "code",
   "execution_count": 18,
   "id": "89cb3d22",
   "metadata": {},
   "outputs": [
    {
     "data": {
      "text/plain": [
       "59.072236591790784"
      ]
     },
     "execution_count": 18,
     "metadata": {},
     "output_type": "execute_result"
    }
   ],
   "source": [
    "lr=.1\n",
    "step_size=loss_slope*lr\n",
    "step_size"
   ]
  },
  {
   "cell_type": "code",
   "execution_count": 19,
   "id": "3cabe834",
   "metadata": {},
   "outputs": [
    {
     "data": {
      "text/plain": [
       "40.927763408209216"
      ]
     },
     "execution_count": 19,
     "metadata": {},
     "output_type": "execute_result"
    }
   ],
   "source": [
    "b=b-step_size\n",
    "b"
   ]
  },
  {
   "cell_type": "code",
   "execution_count": 20,
   "id": "16b3db9d",
   "metadata": {},
   "outputs": [
    {
     "data": {
      "text/plain": [
       "<matplotlib.legend.Legend at 0x2492a1d9fa0>"
      ]
     },
     "execution_count": 20,
     "metadata": {},
     "output_type": "execute_result"
    },
    {
     "data": {
      "image/png": "[encoded data removed]",
      "text/plain": [
       "<Figure size 432x288 with 1 Axes>"
      ]
     },
     "metadata": {
      "needs_background": "light"
     },
     "output_type": "display_data"
    }
   ],
   "source": [
    "y_pred1=((78.35*X)+b).reshape(4)\n",
    "plt.scatter(X,y)\n",
    "plt.plot(X,reg.predict(X),color=\"red\",label=\"ols\")\n",
    "plt.plot(X,y_pred1,color=\"b\",label=\"b={}\".format(b))\n",
    "plt.plot(X,y_pred,color=\"y\",label=\"b=0\")\n",
    "plt.legend()"
   ]
  },
  {
   "cell_type": "code",
   "execution_count": 21,
   "id": "6cad79c6",
   "metadata": {},
   "outputs": [],
   "source": [
    "\n",
    "loss_slope= -2 * sum(y-m*X.ravel()-b)"
   ]
  },
  {
   "cell_type": "code",
   "execution_count": 22,
   "id": "fd1bfad3",
   "metadata": {},
   "outputs": [
    {
     "data": {
      "text/plain": [
       "118.14447318358157"
      ]
     },
     "execution_count": 22,
     "metadata": {},
     "output_type": "execute_result"
    }
   ],
   "source": [
    "loss_slope"
   ]
  },
  {
   "cell_type": "code",
   "execution_count": 23,
   "id": "5c014a3c",
   "metadata": {},
   "outputs": [
    {
     "data": {
      "text/plain": [
       "11.814447318358157"
      ]
     },
     "execution_count": 23,
     "metadata": {},
     "output_type": "execute_result"
    }
   ],
   "source": [
    "step_size=loss_slope*lr\n",
    "step_size"
   ]
  },
  {
   "cell_type": "code",
   "execution_count": 24,
   "id": "652301a7",
   "metadata": {},
   "outputs": [],
   "source": [
    "b=b-step_size"
   ]
  },
  {
   "cell_type": "code",
   "execution_count": 25,
   "id": "a988277e",
   "metadata": {},
   "outputs": [
    {
     "data": {
      "text/plain": [
       "29.11331608985106"
      ]
     },
     "execution_count": 25,
     "metadata": {},
     "output_type": "execute_result"
    }
   ],
   "source": [
    "b"
   ]
  },
  {
   "cell_type": "code",
   "execution_count": 26,
   "id": "f78581e1",
   "metadata": {},
   "outputs": [
    {
     "data": {
      "text/plain": [
       "<matplotlib.legend.Legend at 0x2492a234c70>"
      ]
     },
     "execution_count": 26,
     "metadata": {},
     "output_type": "execute_result"
    },
    {
     "data": {
      "image/png": "[encoded data removed]",
      "text/plain": [
       "<Figure size 432x288 with 1 Axes>"
      ]
     },
     "metadata": {
      "needs_background": "light"
     },
     "output_type": "display_data"
    }
   ],
   "source": [
    "y_pred2=((78.35*X)+b).reshape(4)\n",
    "plt.scatter(X,y)\n",
    "plt.plot(X,reg.predict(X),color=\"red\",label=\"ols\")\n",
    "plt.plot(X,y_pred2,color=\"#5C5858\",label=\"b=20.927763408209216\")\n",
    "plt.plot(X,y_pred1,color=\"b\",label=\"b={}\".format(b))\n",
    "plt.plot(X,y_pred,color=\"y\",label=\"b=0\")\n",
    "plt.legend()"
   ]
  },
  {
   "cell_type": "code",
   "execution_count": 27,
   "id": "ff64b717",
   "metadata": {},
   "outputs": [
    {
     "data": {
      "text/plain": [
       "-45.782671307790594"
      ]
     },
     "execution_count": 27,
     "metadata": {},
     "output_type": "execute_result"
    }
   ],
   "source": [
    "loss_slope=-2*sum(y-X.ravel()-b)\n",
    "loss_slope"
   ]
  },
  {
   "cell_type": "code",
   "execution_count": 28,
   "id": "88982bee",
   "metadata": {},
   "outputs": [],
   "source": [
    "step_size=loss_slope*lr"
   ]
  },
  {
   "cell_type": "code",
   "execution_count": 29,
   "id": "0f52802c",
   "metadata": {},
   "outputs": [
    {
     "data": {
      "text/plain": [
       "-4.57826713077906"
      ]
     },
     "execution_count": 29,
     "metadata": {},
     "output_type": "execute_result"
    }
   ],
   "source": [
    "step_size"
   ]
  },
  {
   "cell_type": "code",
   "execution_count": 30,
   "id": "e2714a99",
   "metadata": {},
   "outputs": [],
   "source": [
    "b=b-step_size"
   ]
  },
  {
   "cell_type": "code",
   "execution_count": 31,
   "id": "e5ec0e2d",
   "metadata": {},
   "outputs": [
    {
     "data": {
      "text/plain": [
       "<matplotlib.legend.Legend at 0x2492a2f8190>"
      ]
     },
     "execution_count": 31,
     "metadata": {},
     "output_type": "execute_result"
    },
    {
     "data": {
      "image/png": "[encoded data removed]",
      "text/plain": [
       "<Figure size 432x288 with 1 Axes>"
      ]
     },
     "metadata": {
      "needs_background": "light"
     },
     "output_type": "display_data"
    }
   ],
   "source": [
    "y_pred3=((78.35*X)+b).reshape(4)\n",
    "plt.scatter(X,y)\n",
    "plt.plot(X,reg.predict(X),color=\"red\",label=\"ols\")\n",
    "\n",
    "plt.plot(X,y_pred3,color=\"#5C5859\",label=\"b={}\".format(b))\n",
    "plt.plot(X,y_pred2,color=\"#5C5858\",label=\"b=20.927763408209216\")\n",
    "plt.plot(X,y_pred1,color=\"b\",label=\"b={}\".format(b))\n",
    "plt.plot(X,y_pred,color=\"y\",label=\"b=0\")\n",
    "plt.legend()"
   ]
  },
  {
   "cell_type": "code",
   "execution_count": null,
   "id": "d52508b8",
   "metadata": {},
   "outputs": [],
   "source": []
  },
  {
   "cell_type": "code",
   "execution_count": 32,
   "id": "dba43dca",
   "metadata": {},
   "outputs": [
    {
     "data": {
      "text/plain": [
       "<matplotlib.collections.PathCollection at 0x2492a34c8e0>"
      ]
     },
     "execution_count": 32,
     "metadata": {},
     "output_type": "execute_result"
    },
    {
     "data": {
      "image/png": "[encoded data removed]",
      "text/plain": [
       "<Figure size 432x288 with 1 Axes>"
      ]
     },
     "metadata": {
      "needs_background": "light"
     },
     "output_type": "display_data"
    }
   ],
   "source": [
    "b=-100\n",
    "m=78.35\n",
    "lr=.1\n",
    "epochs=10\n",
    "for i in range(epochs):\n",
    "    loss_slope= -2* sum(y-m*X.ravel()-b)\n",
    "    b=b- (lr*loss_slope)\n",
    "    y_pred=m*X+b\n",
    "    plt.plot(X,y_pred)\n",
    "plt.scatter(X,y)"
   ]
  },
  {
   "cell_type": "code",
   "execution_count": null,
   "id": "a1e25688",
   "metadata": {},
   "outputs": [],
   "source": []
  }
 ],
 "metadata": {
  "kernelspec": {
   "display_name": "Python 3 (ipykernel)",
   "language": "python",
   "name": "python3"
  },
  "language_info": {
   "codemirror_mode": {
    "name": "ipython",
    "version": 3
   },
   "file_extension": ".py",
   "mimetype": "text/x-python",
   "name": "python",
   "nbconvert_exporter": "python",
   "pygments_lexer": "ipython3",
   "version": "3.9.7"
  }
 },
 "nbformat": 4,
 "nbformat_minor": 5
}
