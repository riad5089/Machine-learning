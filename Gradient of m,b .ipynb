{
 "cells": [
  {
   "cell_type": "code",
   "execution_count": 1,
   "id": "77d01633",
   "metadata": {},
   "outputs": [],
   "source": [
    "from sklearn.datasets import make_regression\n",
    "import matplotlib.pyplot as plt\n",
    "import numpy as np"
   ]
  },
  {
   "cell_type": "code",
   "execution_count": 2,
   "id": "13393577",
   "metadata": {},
   "outputs": [],
   "source": [
    "X,y=make_regression(n_samples=100,n_features=1,n_informative=1,n_targets=1,noise=20)"
   ]
  },
  {
   "cell_type": "code",
   "execution_count": 3,
   "id": "1f8903d4",
   "metadata": {},
   "outputs": [
    {
     "data": {
      "text/plain": [
       "<matplotlib.collections.PathCollection at 0x14b2c0dad60>"
      ]
     },
     "execution_count": 3,
     "metadata": {},
     "output_type": "execute_result"
    },
    {
     "data": {
      "image/png": "[encoded data removed]",
      "text/plain": [
       "<Figure size 432x288 with 1 Axes>"
      ]
     },
     "metadata": {
      "needs_background": "light"
     },
     "output_type": "display_data"
    }
   ],
   "source": [
    "plt.scatter(X,y)"
   ]
  },
  {
   "cell_type": "code",
   "execution_count": 4,
   "id": "5330d7db",
   "metadata": {},
   "outputs": [],
   "source": [
    "from sklearn.linear_model import LinearRegression"
   ]
  },
  {
   "cell_type": "code",
   "execution_count": 5,
   "id": "2a944585",
   "metadata": {},
   "outputs": [],
   "source": [
    "lr=LinearRegression()"
   ]
  },
  {
   "cell_type": "code",
   "execution_count": 6,
   "id": "ee93e4c0",
   "metadata": {},
   "outputs": [
    {
     "data": {
      "text/plain": [
       "LinearRegression()"
      ]
     },
     "execution_count": 6,
     "metadata": {},
     "output_type": "execute_result"
    }
   ],
   "source": [
    "lr.fit(X,y)"
   ]
  },
  {
   "cell_type": "code",
   "execution_count": 7,
   "id": "743a7492",
   "metadata": {},
   "outputs": [
    {
     "data": {
      "text/plain": [
       "array([11.33990519])"
      ]
     },
     "execution_count": 7,
     "metadata": {},
     "output_type": "execute_result"
    }
   ],
   "source": [
    "lr.coef_"
   ]
  },
  {
   "cell_type": "code",
   "execution_count": 8,
   "id": "b4b8c51f",
   "metadata": {},
   "outputs": [
    {
     "data": {
      "text/plain": [
       "-4.094132744420732"
      ]
     },
     "execution_count": 8,
     "metadata": {},
     "output_type": "execute_result"
    }
   ],
   "source": [
    "lr.intercept_"
   ]
  },
  {
   "cell_type": "code",
   "execution_count": 9,
   "id": "ae61f660",
   "metadata": {},
   "outputs": [],
   "source": [
    "m=70.357\n",
    "\n"
   ]
  },
  {
   "cell_type": "code",
   "execution_count": 10,
   "id": "b62a5813",
   "metadata": {},
   "outputs": [],
   "source": [
    "class GDregressor:\n",
    "    \n",
    "    def __init__(self,learning_rate,epochs):\n",
    "        self.m=29.19\n",
    "        self.b=-120\n",
    "        self.lr=learning_rate\n",
    "        self.epochs=epochs\n",
    "    def fit(self,X,y):\n",
    "        for i in range(self.epochs):\n",
    "            loss_slope=-2*sum(y-self.m*X.ravel() -self.b)\n",
    "            self.b=self.b-(self.lr*loss_slope)\n",
    "            print(loss_slope,self.b)\n",
    "        print(self.b)\n",
    "            \n",
    "            \n",
    "            "
   ]
  },
  {
   "cell_type": "code",
   "execution_count": 11,
   "id": "d9e97ae7",
   "metadata": {},
   "outputs": [],
   "source": [
    "gd=GDregressor(0.001,100)"
   ]
  },
  {
   "cell_type": "code",
   "execution_count": 12,
   "id": "251d0ced",
   "metadata": {},
   "outputs": [
    {
     "name": "stdout",
     "output_type": "stream",
     "text": [
      "-23705.37436825638 -96.29462563174363\n",
      "-18964.299494605104 -77.33032613713853\n",
      "-15171.439595684087 -62.158886541454436\n",
      "-12137.151676547264 -50.021734864907174\n",
      "-9709.72134123781 -40.312013523669364\n",
      "-7767.777072990245 -32.54423645067912\n",
      "-6214.221658392203 -26.330014792286917\n",
      "-4971.377326713763 -21.358637465573153\n",
      "-3977.1018613710075 -17.381535604202146\n",
      "-3181.6814890968053 -14.19985411510534\n",
      "-2545.3451912774444 -11.654508923827896\n",
      "-2036.2761530219555 -9.61823277080594\n",
      "-1629.0209224175644 -7.9892118483883765\n",
      "-1303.2167379340515 -6.685995110454325\n",
      "-1042.5733903472415 -5.643421720107083\n",
      "-834.0587122777922 -4.809363007829291\n",
      "-667.2469698222337 -4.142116038007058\n",
      "-533.7975758577874 -3.60831846214927\n",
      "-427.03806068622964 -3.1812804014630407\n",
      "-341.6304485489844 -2.839649952914056\n",
      "-273.3043588391874 -2.566345594074869\n",
      "-218.64348707134948 -2.3477021070035193\n",
      "-174.9147896570796 -2.17278731734644\n",
      "-139.9318317256638 -2.032855485620776\n",
      "-111.94546538053085 -1.9209100202402452\n",
      "-89.55637230442451 -1.8313536479358206\n",
      "-71.64509784353962 -1.7597085500922809\n",
      "-57.316078274831824 -1.702392471817449\n",
      "-45.85286261986519 -1.656539609197584\n",
      "-36.682290095892796 -1.6198573191016912\n",
      "-29.345832076713663 -1.5905114870249775\n",
      "-23.476665661371307 -1.567034821363606\n",
      "-18.781332529096566 -1.5482534888345094\n",
      "-15.025066023277567 -1.5332284228112318\n",
      "-12.020052818622167 -1.5212083699926098\n",
      "-9.616042254897236 -1.5115923277377126\n",
      "-7.692833803918106 -1.5038994939337944\n",
      "-6.154267043134752 -1.4977452268906597\n",
      "-4.923413634507575 -1.4928218132561522\n",
      "-3.9387309076060806 -1.4888830823485462\n",
      "-3.150984726084955 -1.4857320976224613\n",
      "-2.5207877808675008 -1.4832113098415938\n",
      "-2.0166302246941132 -1.4811946796168998\n",
      "-1.613304179755609 -1.479581375437144\n",
      "-1.2906433438045397 -1.4782907320933396\n",
      "-1.0325146750438492 -1.4772582174182958\n",
      "-0.8260117400349571 -1.4764322056782608\n",
      "-0.6608093920279572 -1.4757713962862329\n",
      "-0.5286475136225679 -1.4752427487726103\n",
      "-0.42291801089803727 -1.4748198307617122\n",
      "-0.3383344087182323 -1.474481496352994\n",
      "-0.27066752697415275 -1.4742108288260198\n",
      "-0.21653402157964585 -1.4739942948044402\n",
      "-0.1732272172640208 -1.4738210675871761\n",
      "-0.13858177381124648 -1.4736824858133648\n",
      "-0.11086541904868596 -1.473571620394316\n",
      "-0.08869233523925679 -1.4734829280590769\n",
      "-0.07095386819131022 -1.4734119741908855\n",
      "-0.05676309455263784 -1.4733552110963328\n",
      "-0.04541047564235612 -1.4733098006206904\n",
      "-0.036328380513936054 -1.4732734722401764\n",
      "-0.029062704410890206 -1.4732444095357655\n",
      "-0.02325016352905429 -1.4732211593722364\n",
      "-0.018600130823102745 -1.4732025592414133\n",
      "-0.01488010465823919 -1.473187679136755\n",
      "-0.011904083726683723 -1.4731757750530283\n",
      "-0.009523266981416256 -1.4731662517860469\n",
      "-0.007618613585322009 -1.4731586331724615\n",
      "-0.006094890867906599 -1.4731525382815935\n",
      "-0.00487591269479104 -1.4731476623688988\n",
      "-0.0039007301556210905 -1.4731437616387433\n",
      "-0.003120584124509662 -1.4731406410546188\n",
      "-0.002496467299673455 -1.473138144587319\n",
      "-0.0019971738396193928 -1.4731361474134794\n",
      "-0.0015977390716344075 -1.4731345496744077\n",
      "-0.001278191257291894 -1.4731332714831504\n",
      "-0.0010225530054004395 -1.473132248930145\n",
      "-0.000818042404759467 -1.4731314308877403\n",
      "-0.0006544339236995711 -1.4731307764538166\n",
      "-0.000523547138961078 -1.4731302529066777\n",
      "-0.00041883771118023105 -1.4731298340689665\n",
      "-0.0003350701689583957 -1.4731294989987975\n",
      "-0.00026805613519798044 -1.4731292309426622\n",
      "-0.00021444490764821467 -1.4731290164977546\n",
      "-0.0001715559267978506 -1.4731288449418278\n",
      "-0.00013724474101906026 -1.4731287076970867\n",
      "-0.00010979579265502082 -1.473128597901294\n",
      "-8.783663422207155e-05 -1.4731285100646598\n",
      "-7.026930766329542e-05 -1.4731284397953521\n",
      "-5.621544640455056e-05 -1.4731283835799058\n",
      "-4.4972356738171015e-05 -1.473128338607549\n",
      "-3.5977885888272e-05 -1.4731283026296633\n",
      "-2.878230797342951e-05 -1.4731282738473555\n",
      "-2.3025846944690898e-05 -1.4731282508215084\n",
      "-1.8420677726282975e-05 -1.4731282324008308\n",
      "-1.4736542064852642e-05 -1.4731282176642888\n",
      "-1.1789233695935764e-05 -1.4731282058750552\n",
      "-9.431386622793525e-06 -1.4731281964436687\n",
      "-7.545109474094147e-06 -1.4731281888985592\n",
      "-6.036087524918798e-06 -1.4731281828624716\n",
      "-1.4731281828624716\n"
     ]
    }
   ],
   "source": [
    "gd.fit(X,y)"
   ]
  },
  {
   "cell_type": "code",
   "execution_count": null,
   "id": "0df6fcc8",
   "metadata": {},
   "outputs": [],
   "source": []
  },
  {
   "cell_type": "markdown",
   "id": "de090cc3",
   "metadata": {},
   "source": [
    "# Now find the value of m,b"
   ]
  },
  {
   "cell_type": "code",
   "execution_count": 13,
   "id": "a158bf5d",
   "metadata": {},
   "outputs": [],
   "source": [
    "X,y=make_regression(n_samples=100,n_features=1,n_informative=1,n_targets=1,noise=20,random_state=13)"
   ]
  },
  {
   "cell_type": "code",
   "execution_count": 14,
   "id": "4db3a088",
   "metadata": {},
   "outputs": [
    {
     "data": {
      "text/plain": [
       "<matplotlib.collections.PathCollection at 0x14b2fb05fa0>"
      ]
     },
     "execution_count": 14,
     "metadata": {},
     "output_type": "execute_result"
    },
    {
     "data": {
      "image/png": "[encoded data removed]",
      "text/plain": [
       "<Figure size 432x288 with 1 Axes>"
      ]
     },
     "metadata": {
      "needs_background": "light"
     },
     "output_type": "display_data"
    }
   ],
   "source": [
    "plt.scatter(X,y)"
   ]
  },
  {
   "cell_type": "code",
   "execution_count": 27,
   "id": "07dbbebb",
   "metadata": {},
   "outputs": [],
   "source": [
    "from sklearn.model_selection import train_test_split\n",
    "x_train,x_test,y_train,y_test=train_test_split(X,y,test_size=.2,random_state=2)"
   ]
  },
  {
   "cell_type": "code",
   "execution_count": 28,
   "id": "729bc75e",
   "metadata": {},
   "outputs": [],
   "source": [
    "from sklearn.linear_model import LinearRegression"
   ]
  },
  {
   "cell_type": "code",
   "execution_count": 29,
   "id": "8f5f5622",
   "metadata": {},
   "outputs": [],
   "source": [
    "from sklearn.model_selection import cross_val_score"
   ]
  },
  {
   "cell_type": "code",
   "execution_count": 30,
   "id": "07f98b13",
   "metadata": {},
   "outputs": [],
   "source": [
    "lr=LinearRegression()"
   ]
  },
  {
   "cell_type": "code",
   "execution_count": 32,
   "id": "5961f5bd",
   "metadata": {},
   "outputs": [
    {
     "name": "stdout",
     "output_type": "stream",
     "text": [
      "[28.12597332]\n",
      "-2.271014426178382\n"
     ]
    }
   ],
   "source": [
    "# lr.fit(X,y)\n",
    "lr.fit(x_train,y_train)\n",
    "print(lr.coef_)\n",
    "print(lr.intercept_)"
   ]
  },
  {
   "cell_type": "code",
   "execution_count": 35,
   "id": "2301313f",
   "metadata": {},
   "outputs": [
    {
     "data": {
      "text/plain": [
       "0.6345158782661013"
      ]
     },
     "execution_count": 35,
     "metadata": {},
     "output_type": "execute_result"
    }
   ],
   "source": [
    "# np.mean(cross_val_score(lr,X,y,scoring=\"r2\",cv=10))\n",
    "y_pred=lr.predict(x_test)\n",
    "from sklearn.metrics import r2_score\n",
    "r2_score(y_test,y_pred)"
   ]
  },
  {
   "cell_type": "code",
   "execution_count": 20,
   "id": "bdd769d0",
   "metadata": {},
   "outputs": [
    {
     "name": "stdout",
     "output_type": "stream",
     "text": [
      "[27.82809103]\n",
      "-2.29474455867698\n"
     ]
    }
   ],
   "source": [
    "print(lr.coef_)\n",
    "print(lr.intercept_)"
   ]
  },
  {
   "cell_type": "code",
   "execution_count": 36,
   "id": "2dba20c9",
   "metadata": {},
   "outputs": [],
   "source": [
    "class Gdregressor:\n",
    "    def __init__(self,learning_rate,epochs):\n",
    "        self.m=100\n",
    "        self.b=-120\n",
    "        self.lr=learning_rate\n",
    "        self.epochs=epochs\n",
    "    def fit(self,X,y):\n",
    "        for i in range(self.epochs):\n",
    "            loss_slop_b=-2*sum(y-self.m*X.ravel()-self.b)\n",
    "            loss_slop_m=-2*sum((y-self.m*X.ravel()-self.b)*X.ravel())\n",
    "            self.b=self.b-(loss_slop_b*self.lr)\n",
    "            self.m=self.m-(loss_slop_m*self.lr)\n",
    "        print(self.m,self.b)\n",
    "        \n",
    "    def predict(self,X):\n",
    "        return self.m*X+self.b"
   ]
  },
  {
   "cell_type": "code",
   "execution_count": 37,
   "id": "96d8562d",
   "metadata": {},
   "outputs": [],
   "source": [
    "gd=Gdregressor(.001,100)"
   ]
  },
  {
   "cell_type": "code",
   "execution_count": 38,
   "id": "065ca2c1",
   "metadata": {},
   "outputs": [
    {
     "name": "stdout",
     "output_type": "stream",
     "text": [
      "28.125986180062693 -2.2710234077993587\n"
     ]
    }
   ],
   "source": [
    "# gd.fit(X,y)\n",
    "gd.fit(x_train,y_train)"
   ]
  },
  {
   "cell_type": "code",
   "execution_count": 39,
   "id": "4308a8ff",
   "metadata": {},
   "outputs": [
    {
     "data": {
      "text/plain": [
       "array([[ 21.09901764],\n",
       "       [ 18.03495582],\n",
       "       [ 18.23747454],\n",
       "       [ -8.10293816],\n",
       "       [ 15.72634438],\n",
       "       [ 58.21061821],\n",
       "       [-15.03325661],\n",
       "       [-11.33106893],\n",
       "       [-15.8100692 ],\n",
       "       [ -8.80823027],\n",
       "       [-23.57514236],\n",
       "       [ 14.78144298],\n",
       "       [ 12.70150468],\n",
       "       [-23.88941637],\n",
       "       [-22.30771332],\n",
       "       [-16.67054657],\n",
       "       [ 24.52827719],\n",
       "       [-16.98553289],\n",
       "       [ -3.88917855],\n",
       "       [-12.01968112]])"
      ]
     },
     "execution_count": 39,
     "metadata": {},
     "output_type": "execute_result"
    }
   ],
   "source": [
    "# gd.predict(X)\n",
    "gd.predict(x_test)"
   ]
  },
  {
   "cell_type": "code",
   "execution_count": 40,
   "id": "de229a2a",
   "metadata": {},
   "outputs": [
    {
     "data": {
      "text/plain": [
       "0.634515826773629"
      ]
     },
     "execution_count": 40,
     "metadata": {},
     "output_type": "execute_result"
    }
   ],
   "source": [
    "y_pred=gd.predict(x_test)\n",
    "from sklearn.metrics import r2_score\n",
    "r2_score(y_test,y_pred)"
   ]
  },
  {
   "cell_type": "code",
   "execution_count": null,
   "id": "d1d3a4ff",
   "metadata": {},
   "outputs": [],
   "source": []
  }
 ],
 "metadata": {
  "kernelspec": {
   "display_name": "Python 3 (ipykernel)",
   "language": "python",
   "name": "python3"
  },
  "language_info": {
   "codemirror_mode": {
    "name": "ipython",
    "version": 3
   },
   "file_extension": ".py",
   "mimetype": "text/x-python",
   "name": "python",
   "nbconvert_exporter": "python",
   "pygments_lexer": "ipython3",
   "version": "3.9.7"
  }
 },
 "nbformat": 4,
 "nbformat_minor": 5
}
