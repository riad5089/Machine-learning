{
 "cells": [
  {
   "cell_type": "code",
   "execution_count": 1,
   "id": "452b2699",
   "metadata": {},
   "outputs": [],
   "source": [
    "import pandas as pd\n",
    "import requests\n",
    "from bs4 import BeautifulSoup"
   ]
  },
  {
   "cell_type": "code",
   "execution_count": 2,
   "id": "0f5af8e7",
   "metadata": {},
   "outputs": [],
   "source": [
    "headers={'User-Agent':'Mozilla/5.0 (Windows NT 6.3; Win 64 ; x64) Apple WeKit /537.36(KHTML , like Gecko) Chrome/80.0.3987.162 Safari/537.36'}\n",
    "webpage=requests.get(\"https://www.ambitionbox.com/list-of-companies?page=1,headers=headers\").text"
   ]
  },
  {
   "cell_type": "code",
   "execution_count": 3,
   "id": "b90078f1",
   "metadata": {},
   "outputs": [],
   "source": [
    "soup=BeautifulSoup(webpage,\"lxml\")"
   ]
  },
  {
   "cell_type": "code",
   "execution_count": 4,
   "id": "3b241325",
   "metadata": {},
   "outputs": [
    {
     "name": "stdout",
     "output_type": "stream",
     "text": [
      "<html>\n",
      " <head>\n",
      "  <title>\n",
      "   Access Denied\n",
      "  </title>\n",
      " </head>\n",
      " <body>\n",
      "  <h1>\n",
      "   Access Denied\n",
      "  </h1>\n",
      "  You don't have permission to access \"http://www.ambitionbox.com/list-of-companies?\" on this server.\n",
      "  <p>\n",
      "   Reference #18.437c4117.1664981406.146a88c9\n",
      "  </p>\n",
      " </body>\n",
      "</html>\n",
      "\n"
     ]
    }
   ],
   "source": [
    "print(soup.prettify())"
   ]
  },
  {
   "cell_type": "code",
   "execution_count": 5,
   "id": "b6275b0c",
   "metadata": {},
   "outputs": [
    {
     "data": {
      "text/plain": [
       "[]"
      ]
     },
     "execution_count": 5,
     "metadata": {},
     "output_type": "execute_result"
    }
   ],
   "source": [
    "soup.find_all(\"h2\")"
   ]
  },
  {
   "cell_type": "code",
   "execution_count": 6,
   "id": "999a8313",
   "metadata": {},
   "outputs": [],
   "source": [
    "for i in soup.find_all(\"h2\"):\n",
    "    print(i.text.strip())"
   ]
  },
  {
   "cell_type": "code",
   "execution_count": 7,
   "id": "eff3721a",
   "metadata": {},
   "outputs": [
    {
     "name": "stdout",
     "output_type": "stream",
     "text": [
      "Reference #18.437c4117.1664981406.146a88c9\n"
     ]
    }
   ],
   "source": [
    "for i in soup.find_all(\"p\"):\n",
    "    print(i.text.strip())"
   ]
  },
  {
   "cell_type": "code",
   "execution_count": 8,
   "id": "95359895",
   "metadata": {},
   "outputs": [
    {
     "data": {
      "text/plain": [
       "[]"
      ]
     },
     "execution_count": 8,
     "metadata": {},
     "output_type": "execute_result"
    }
   ],
   "source": [
    "soup.find_all(\"p\",class_=\"rating\")"
   ]
  },
  {
   "cell_type": "code",
   "execution_count": 11,
   "id": "44ee063d",
   "metadata": {},
   "outputs": [],
   "source": [
    "import pandas as pd\n",
    "import numpy as np"
   ]
  },
  {
   "cell_type": "code",
   "execution_count": null,
   "id": "939a9b67",
   "metadata": {},
   "outputs": [],
   "source": []
  },
  {
   "cell_type": "code",
   "execution_count": null,
   "id": "f2911b0e",
   "metadata": {},
   "outputs": [],
   "source": []
  }
 ],
 "metadata": {
  "kernelspec": {
   "display_name": "Python 3 (ipykernel)",
   "language": "python",
   "name": "python3"
  },
  "language_info": {
   "codemirror_mode": {
    "name": "ipython",
    "version": 3
   },
   "file_extension": ".py",
   "mimetype": "text/x-python",
   "name": "python",
   "nbconvert_exporter": "python",
   "pygments_lexer": "ipython3",
   "version": "3.9.7"
  }
 },
 "nbformat": 4,
 "nbformat_minor": 5
}
