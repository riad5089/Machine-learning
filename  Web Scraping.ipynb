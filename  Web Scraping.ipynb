{
 "cells": [
  {
   "cell_type": "code",
   "execution_count": 1,
   "id": "452b2699",
   "metadata": {},
   "outputs": [
    {
     "name": "stderr",
     "output_type": "stream",
     "text": [
      "C:\\Users\\Abdur rahim nishad\\anaconda3\\lib\\site-packages\\numpy\\_distributor_init.py:30: UserWarning: loaded more than 1 DLL from .libs:\n",
      "C:\\Users\\Abdur rahim nishad\\anaconda3\\lib\\site-packages\\numpy\\.libs\\libopenblas.EL2C6PLE4ZYW3ECEVIV3OXXGRN2NRFM2.gfortran-win_amd64.dll\n",
      "C:\\Users\\Abdur rahim nishad\\anaconda3\\lib\\site-packages\\numpy\\.libs\\libopenblas.XWYDX2IKJW2NMTWSFYNGFUWKQU3LYTCZ.gfortran-win_amd64.dll\n",
      "  warnings.warn(\"loaded more than 1 DLL from .libs:\"\n"
     ]
    }
   ],
   "source": [
    "import pandas as pd\n",
    "import numpy as np\n",
    "import requests\n",
    "from bs4 import BeautifulSoup"
   ]
  },
  {
   "cell_type": "code",
   "execution_count": 2,
   "id": "0f5af8e7",
   "metadata": {},
   "outputs": [],
   "source": [
    "headers={'User-Agent':'Mozilla/5.0 (Windows NT 6.3; Win 64 ; x64) Apple WeKit /537.36(KHTML , like Gecko) Chrome/80.0.3987.162 Safari/537.36'}\n",
    "webpage=requests.get(\"https://www.ambitionbox.com/list-of-companies?page=1\",headers=headers).text"
   ]
  },
  {
   "cell_type": "code",
   "execution_count": 3,
   "id": "ed4e03c3",
   "metadata": {
    "scrolled": true
   },
   "outputs": [
    {
     "data": {
      "text/plain": [
       "'\\n\\n<!DOCTYPE html>\\n<html>\\n  <head>\\n    <meta charset=\"utf-8\">\\n    <meta name=\"viewport\" content=\"width=device-width, initial-scale=1, shrink-to-fit=no\">\\n    <meta http-equiv=\"refresh\" content=\"5; URL=\\'/list-of-companies?page=1&bm-verify=AAQAAAAH_____0l9dcHBosG7asuRPfrAIbX06wPisYJxQDy7itqDhOiqbXtsgUrJhG2HuU6RgFimK7lG0db_41aIvvIyYg00hiyAuk1yBkeLWYMD5jfGxicgEEsAa74kDn-AMFrErZDiHh7dq6-YY1ZucX-saEF-zzE_NnWLe_ZEaa1yN4L__VGEnRpZii5OdJfsUE81QUyuf7mRO8GhTWJ24wEtLAakkhhGfSzl452QE6ptKfFGjap7l16Rj9uQwiWnEm50pdFly4em4WH6T5m28iOGQuNq8yN8TpE\\'\" />\\n    <title>&nbsp;</title>\\n    <script>\\n        var i = 1685174403;\\n        var j = i + Number(\"2230\" + \"72237\");\\n    </script>\\n  </head>\\n    <noscript>\\n      <iframe style=\"border: none; height: 100%; width: 100%;\" src=\"\"></iframe>\\n    </noscript>\\n    <script>\\n          var xhr = new XMLHttpRequest();\\n          xhr.withCredentials = true;\\n          xhr.addEventListener(\"loadend\", function() {\\n              try {\\n                  var data = JSON.parse(xhr.responseText);\\n                  if (data.hasOwnProperty(\\'reload\\')) {\\n                      if (data[\"reload\"] == true) {\\n                        window.location.replace(window.location.href.replace(/[&?]bm-verify=[^#]*/, \"\"));\\n                        if(window.location.hash){\\n                          window.location.reload();\\n                        }\\n                      }\\n                  } else if (data.hasOwnProperty(\\'location\\')) {\\n                      window.location.replace(data[\"location\"]);\\n\\n                  } else {\\n                      window.location.reload();\\n                  }\\n              } catch (e) {\\n                  var data = {}\\n                  window.location.reload();\\n              }\\n          });\\n          xhr.open(\"POST\", \"/_sec/verify?provider=interstitial\", false);\\n          xhr.setRequestHeader(\"Content-Type\", \"application/json\");\\n          xhr.send(JSON.stringify({\\n              \"bm-verify\": \"AAQAAAAH/////7QFng9QncX527Fz5cIzxakc0VOfKO5IL18Yh9+EE6uUDH4hMuw/yXfGP/03NRoFac8boqaIhTCXpMCExPEVNjkNynyhK9N+IAKNxZfyD+bLzxxSsrWIRFIjKO4w2B7b2+aF3hSFZa4Tzs3YAKOISEos3A6Jl+O67hvVK4tmaAzWFW+oHX/lgYeYs7cgyBKD6GLazArUnxAXS3HCe18il/IQg5FSOSbgijB+J99ppB6StwGSFgnaxM2oNUsTUVdDfQU9mcXr+KE1Gs59LPzTFy7IWjirWkW60gGAA0FYZV9Lj88m\",\\n              \"pow\": j\\n          }));\\n    </script>\\n  </body>\\n</html>\\n                              '"
      ]
     },
     "execution_count": 3,
     "metadata": {},
     "output_type": "execute_result"
    }
   ],
   "source": [
    "webpage"
   ]
  },
  {
   "cell_type": "code",
   "execution_count": 4,
   "id": "4a5a748d",
   "metadata": {},
   "outputs": [],
   "source": [
    "headers={'User-Agent':'Mozilla/5.0 (Windows NT 6.3; Win 64 ; x64) Apple WeKit /537.36(KHTML , like Gecko) Chrome/80.0.3987.162 Safari/537.36'}\n",
    "webpage=BeautifulSoup(requests.get(\"https://www.ambitionbox.com/list-of-companies\",{},headers=headers).text,'lxml')"
   ]
  },
  {
   "cell_type": "code",
   "execution_count": 5,
   "id": "51b46312",
   "metadata": {},
   "outputs": [
    {
     "data": {
      "text/plain": [
       "<!DOCTYPE html>\n",
       "<html>\n",
       "<head>\n",
       "<meta charset=\"utf-8\"/>\n",
       "<meta content=\"width=device-width, initial-scale=1, shrink-to-fit=no\" name=\"viewport\"/>\n",
       "<meta content=\"5; URL='/list-of-companies?bm-verify=AAQAAAAH_____wNL_cXhlClynEkx9ZVgZHrqFs9aQ1_3Yfm_kFJaCdx-lf0NDEHOBClV7yjPjQFO4EWzIT2dq5Fzn0iSOVZPV-KJY2vYPNtRf2PFeBO-8lrTmtVX9q2Sl3D2QcWqDL37rVxDPuLVlgyiioB_FpyAtoJYgHfx0OPx8HOrYxrFovq5GvuEfu426TdiLuvOuBl2ICNaSg3VDMmXKKgbgx8_ChbhbzKGgiHMUQ_vCkn6UID-hQrTDd9fHsi-hDRRWwqUU91woC9cmHr9'\" http-equiv=\"refresh\"/>\n",
       "<title> </title>\n",
       "<script>\n",
       "        var i = 1685174403;\n",
       "        var j = i + Number(\"6303\" + \"79375\");\n",
       "    </script>\n",
       "</head>\n",
       "<body><noscript>\n",
       "<iframe src=\"\" style=\"border: none; height: 100%; width: 100%;\"></iframe>\n",
       "</noscript>\n",
       "<script>\n",
       "          var xhr = new XMLHttpRequest();\n",
       "          xhr.withCredentials = true;\n",
       "          xhr.addEventListener(\"loadend\", function() {\n",
       "              try {\n",
       "                  var data = JSON.parse(xhr.responseText);\n",
       "                  if (data.hasOwnProperty('reload')) {\n",
       "                      if (data[\"reload\"] == true) {\n",
       "                        window.location.replace(window.location.href.replace(/[&?]bm-verify=[^#]*/, \"\"));\n",
       "                        if(window.location.hash){\n",
       "                          window.location.reload();\n",
       "                        }\n",
       "                      }\n",
       "                  } else if (data.hasOwnProperty('location')) {\n",
       "                      window.location.replace(data[\"location\"]);\n",
       "\n",
       "                  } else {\n",
       "                      window.location.reload();\n",
       "                  }\n",
       "              } catch (e) {\n",
       "                  var data = {}\n",
       "                  window.location.reload();\n",
       "              }\n",
       "          });\n",
       "          xhr.open(\"POST\", \"/_sec/verify?provider=interstitial\", false);\n",
       "          xhr.setRequestHeader(\"Content-Type\", \"application/json\");\n",
       "          xhr.send(JSON.stringify({\n",
       "              \"bm-verify\": \"AAQAAAAH/////60azEZa2rigxaCJFTkUez9z0/HXO9fLQ1AwF2d93K2xzSLzsqH30cV15GepjM+PYej3xJPoi46q6hDeVQ1jbwnknfdpqaWsyk0Un29VfMGZTQn2vnwMddUIph0/DXj38EwUulcMV2RwwJFkB2o9uzWEDq7gE2dpZgUv5IxXRzWjqzhUeDY7aiQInnM83fSCaIkdwTqBr1pLF4mjGCEhAmqsM1cFkstJk0OYsUe+lVHL4XfereNfcyFRs3B3L+WEph+rDMRK5JF7IRWAXYWsH87t+sujfBPonQ==\",\n",
       "              \"pow\": j\n",
       "          }));\n",
       "    </script>\n",
       "</body>\n",
       "</html>"
      ]
     },
     "execution_count": 5,
     "metadata": {},
     "output_type": "execute_result"
    }
   ],
   "source": [
    "webpage"
   ]
  },
  {
   "cell_type": "code",
   "execution_count": 6,
   "id": "b90078f1",
   "metadata": {},
   "outputs": [
    {
     "ename": "TypeError",
     "evalue": "'NoneType' object is not callable",
     "output_type": "error",
     "traceback": [
      "\u001b[1;31m---------------------------------------------------------------------------\u001b[0m",
      "\u001b[1;31mTypeError\u001b[0m                                 Traceback (most recent call last)",
      "\u001b[1;32mC:\\Users\\ABDURR~1\\AppData\\Local\\Temp/ipykernel_5168/1372434647.py\u001b[0m in \u001b[0;36m<cell line: 1>\u001b[1;34m()\u001b[0m\n\u001b[1;32m----> 1\u001b[1;33m \u001b[0msoup\u001b[0m\u001b[1;33m=\u001b[0m\u001b[0mBeautifulSoup\u001b[0m\u001b[1;33m(\u001b[0m\u001b[0mwebpage\u001b[0m\u001b[1;33m,\u001b[0m\u001b[1;34m\"lxml\"\u001b[0m\u001b[1;33m)\u001b[0m\u001b[1;33m\u001b[0m\u001b[1;33m\u001b[0m\u001b[0m\n\u001b[0m",
      "\u001b[1;32m~\\anaconda3\\lib\\site-packages\\bs4\\__init__.py\u001b[0m in \u001b[0;36m__init__\u001b[1;34m(self, markup, features, builder, parse_only, from_encoding, exclude_encodings, element_classes, **kwargs)\u001b[0m\n\u001b[0;32m    309\u001b[0m \u001b[1;33m\u001b[0m\u001b[0m\n\u001b[0;32m    310\u001b[0m         \u001b[1;32mif\u001b[0m \u001b[0mhasattr\u001b[0m\u001b[1;33m(\u001b[0m\u001b[0mmarkup\u001b[0m\u001b[1;33m,\u001b[0m \u001b[1;34m'read'\u001b[0m\u001b[1;33m)\u001b[0m\u001b[1;33m:\u001b[0m        \u001b[1;31m# It's a file-type object.\u001b[0m\u001b[1;33m\u001b[0m\u001b[1;33m\u001b[0m\u001b[0m\n\u001b[1;32m--> 311\u001b[1;33m             \u001b[0mmarkup\u001b[0m \u001b[1;33m=\u001b[0m \u001b[0mmarkup\u001b[0m\u001b[1;33m.\u001b[0m\u001b[0mread\u001b[0m\u001b[1;33m(\u001b[0m\u001b[1;33m)\u001b[0m\u001b[1;33m\u001b[0m\u001b[1;33m\u001b[0m\u001b[0m\n\u001b[0m\u001b[0;32m    312\u001b[0m         elif len(markup) <= 256 and (\n\u001b[0;32m    313\u001b[0m                 \u001b[1;33m(\u001b[0m\u001b[0misinstance\u001b[0m\u001b[1;33m(\u001b[0m\u001b[0mmarkup\u001b[0m\u001b[1;33m,\u001b[0m \u001b[0mbytes\u001b[0m\u001b[1;33m)\u001b[0m \u001b[1;32mand\u001b[0m \u001b[1;32mnot\u001b[0m \u001b[1;34mb'<'\u001b[0m \u001b[1;32min\u001b[0m \u001b[0mmarkup\u001b[0m\u001b[1;33m)\u001b[0m\u001b[1;33m\u001b[0m\u001b[1;33m\u001b[0m\u001b[0m\n",
      "\u001b[1;31mTypeError\u001b[0m: 'NoneType' object is not callable"
     ]
    }
   ],
   "source": [
    "soup=BeautifulSoup(webpage,\"lxml\")"
   ]
  },
  {
   "cell_type": "code",
   "execution_count": null,
   "id": "3b241325",
   "metadata": {},
   "outputs": [],
   "source": [
    "# print(soup.prettify())"
   ]
  },
  {
   "cell_type": "code",
   "execution_count": null,
   "id": "b6275b0c",
   "metadata": {},
   "outputs": [],
   "source": [
    "# soup.find_all(\"h1\")[0].text"
   ]
  },
  {
   "cell_type": "code",
   "execution_count": null,
   "id": "6c22c85d",
   "metadata": {},
   "outputs": [],
   "source": [
    "# len(soup.find_all(\"h2\"))"
   ]
  },
  {
   "cell_type": "code",
   "execution_count": null,
   "id": "a8c1a1c8",
   "metadata": {},
   "outputs": [],
   "source": [
    "# soup.find_all(\"h2\")[0]\n",
    "  "
   ]
  },
  {
   "cell_type": "code",
   "execution_count": null,
   "id": "4bc29057",
   "metadata": {},
   "outputs": [],
   "source": [
    "# for i in soup.find_all(\"h2\"):\n",
    "#     print(i.text)"
   ]
  },
  {
   "cell_type": "code",
   "execution_count": null,
   "id": "12f3afe2",
   "metadata": {},
   "outputs": [],
   "source": [
    "# for i in soup.find_all(\"h2\"):\n",
    "#     print(i.text.strip())"
   ]
  },
  {
   "cell_type": "code",
   "execution_count": null,
   "id": "3dedd6eb",
   "metadata": {},
   "outputs": [],
   "source": [
    "# soup.find_all(\"p\",class_=\"rating\")"
   ]
  },
  {
   "cell_type": "code",
   "execution_count": null,
   "id": "39ad4265",
   "metadata": {},
   "outputs": [],
   "source": [
    "# len(soup.find_all(\"p\",class_=\"rating\"))"
   ]
  },
  {
   "cell_type": "code",
   "execution_count": null,
   "id": "999a8313",
   "metadata": {},
   "outputs": [],
   "source": [
    "# for i in soup.find_all(\"h2\"):\n",
    "#     print(i.text.strip())"
   ]
  },
  {
   "cell_type": "code",
   "execution_count": null,
   "id": "eff3721a",
   "metadata": {},
   "outputs": [],
   "source": [
    "# for i in soup.find_all(\"p\"):\n",
    "#     print(i.text.strip())"
   ]
  },
  {
   "cell_type": "code",
   "execution_count": null,
   "id": "95359895",
   "metadata": {},
   "outputs": [],
   "source": [
    "# soup.find_all(\"a\",class_=\"review-count\")"
   ]
  },
  {
   "cell_type": "code",
   "execution_count": null,
   "id": "b64fd33f",
   "metadata": {},
   "outputs": [],
   "source": [
    "# len(soup.find_all(\"a\",class_=\"review-count\"))"
   ]
  },
  {
   "cell_type": "code",
   "execution_count": null,
   "id": "36320471",
   "metadata": {},
   "outputs": [],
   "source": [
    "company=soup.find_all(\"div\",class_=\"company-content-wrapper\")"
   ]
  },
  {
   "cell_type": "code",
   "execution_count": null,
   "id": "0a0eb2d1",
   "metadata": {},
   "outputs": [],
   "source": [
    "company"
   ]
  },
  {
   "cell_type": "code",
   "execution_count": null,
   "id": "e2d36554",
   "metadata": {},
   "outputs": [],
   "source": [
    "len(company)"
   ]
  },
  {
   "cell_type": "code",
   "execution_count": null,
   "id": "21255cb1",
   "metadata": {},
   "outputs": [],
   "source": [
    "# company[0]"
   ]
  },
  {
   "cell_type": "code",
   "execution_count": null,
   "id": "0cdfdadb",
   "metadata": {},
   "outputs": [],
   "source": [
    "company[0].find_all(\"p\",class_=\"infoEntity\")[3].text.strip()"
   ]
  },
  {
   "cell_type": "code",
   "execution_count": null,
   "id": "03291a54",
   "metadata": {},
   "outputs": [],
   "source": [
    "name=[]\n",
    "rating=[]\n",
    "review=[]\n",
    "ctype=[]\n",
    "hq=[]\n",
    "old=[]\n",
    "employees=[]\n",
    "# description=[]\n",
    "for i in company:\n",
    "    name.append(i.find(\"h2\").text.strip())\n",
    "    rating.append(i.find(\"p\").text.strip())\n",
    "    review.append(i.find(\"a\",class_=\"review-count\").text.strip())\n",
    "    ctype.append(i.find_all(\"p\",class_=\"infoEntity\")[0].text.strip())\n",
    "    hq.append(i.find_all(\"p\",class_=\"infoEntity\")[1].text.strip())\n",
    "    old.append(i.find_all(\"p\",class_=\"infoEntity\")[2].text.strip())\n",
    "    try:\n",
    "        employees.append(i.find_all(\"p\",class_=\"infoEntity\")[3].text.strip())\n",
    "    except:\n",
    "        employees.append(np.nan)\n",
    "#     description.append(i.find_all(\"p\",class_=\"description\").test.strip())\n"
   ]
  },
  {
   "cell_type": "code",
   "execution_count": null,
   "id": "b185d170",
   "metadata": {},
   "outputs": [],
   "source": [
    "name"
   ]
  },
  {
   "cell_type": "code",
   "execution_count": null,
   "id": "e426957a",
   "metadata": {},
   "outputs": [],
   "source": [
    "hq"
   ]
  },
  {
   "cell_type": "code",
   "execution_count": null,
   "id": "f0b00c58",
   "metadata": {},
   "outputs": [],
   "source": [
    "rating"
   ]
  },
  {
   "cell_type": "code",
   "execution_count": null,
   "id": "1ad28258",
   "metadata": {},
   "outputs": [],
   "source": [
    "review"
   ]
  },
  {
   "cell_type": "code",
   "execution_count": null,
   "id": "d61e43fd",
   "metadata": {},
   "outputs": [],
   "source": [
    "# # my_list = [['bobby'], ['hadz'], ['.', 'com']]\n",
    "\n",
    "# flat_list = [x for xs in review for x in xs]\n",
    "# print(flat_list)"
   ]
  },
  {
   "cell_type": "code",
   "execution_count": null,
   "id": "9a9f7b56",
   "metadata": {},
   "outputs": [],
   "source": [
    "import re"
   ]
  },
  {
   "cell_type": "code",
   "execution_count": null,
   "id": "882f3566",
   "metadata": {},
   "outputs": [],
   "source": [
    "import re\n",
    "pattern = r'\\[[^()]*\\]'\n",
    "# s = \"\"\"Issachar is a rawboned[a] donkey lying down among the sheep pens.\"\"\"\n",
    "# t = re.sub(pattern, '', s)\n",
    "reviews=[]\n",
    "for i in review:\n",
    "#     a.append(re.sub(pattern,\" \",i))\n",
    "      \n",
    "      reviews.append(str(i)[1:-1])\n",
    "print(reviews)  "
   ]
  },
  {
   "cell_type": "code",
   "execution_count": null,
   "id": "84a12376",
   "metadata": {},
   "outputs": [],
   "source": [
    "reviews"
   ]
  },
  {
   "cell_type": "code",
   "execution_count": null,
   "id": "9d9a3280",
   "metadata": {},
   "outputs": [],
   "source": [
    "# company[0]"
   ]
  },
  {
   "cell_type": "code",
   "execution_count": null,
   "id": "41330fb6",
   "metadata": {},
   "outputs": [],
   "source": [
    "# company[0].find_all(\"p\",class_=\"infoEntity\")[3].text.strip()"
   ]
  },
  {
   "cell_type": "code",
   "execution_count": null,
   "id": "56675406",
   "metadata": {},
   "outputs": [],
   "source": [
    "# company[0].find_all(\"p\",class_=\"description\",itemprop=\"description\").text"
   ]
  },
  {
   "cell_type": "code",
   "execution_count": null,
   "id": "9ab8356a",
   "metadata": {},
   "outputs": [],
   "source": [
    "d={\"name\":name,\"rating\":rating,\"reviews\":reviews,\"ctype\":ctype,\"hq\":hq,\"old\":old,\"employees\":employees}"
   ]
  },
  {
   "cell_type": "code",
   "execution_count": null,
   "id": "e22ef707",
   "metadata": {},
   "outputs": [],
   "source": [
    "df=pd.DataFrame(d)"
   ]
  },
  {
   "cell_type": "code",
   "execution_count": null,
   "id": "52bacab2",
   "metadata": {},
   "outputs": [],
   "source": [
    "df"
   ]
  },
  {
   "cell_type": "code",
   "execution_count": null,
   "id": "11cc9bfc",
   "metadata": {},
   "outputs": [],
   "source": [
    "new_df=pd.DataFrame()\n",
    "for i in range(1,11):\n",
    "    url=\"https://www.ambitionbox.com/list-of-companies?page={}\".format(i)\n",
    "    headers={'User-Agent':'Mozilla/5.0 (Windows NT 6.3; Win 64 ; x64) Apple WeKit /537.36(KHTML , like Gecko) Chrome/80.0.3987.162 Safari/537.36'}\n",
    "    webpage=requests.get(url,headers=headers).text\n",
    "    \n",
    "    name=[]\n",
    "    rating=[]\n",
    "    review=[]\n",
    "    ctype=[]\n",
    "    hq=[]\n",
    "    old=[]\n",
    "    employees=[]\n",
    "    # description=[]\n",
    "    for i in company:\n",
    "        name.append(i.find(\"h2\").text.strip())\n",
    "        rating.append(i.find(\"p\").text.strip())\n",
    "        review.append(i.find(\"a\",class_=\"review-count\").text.strip())\n",
    "        ctype.append(i.find_all(\"p\",class_=\"infoEntity\")[0].text.strip())\n",
    "        hq.append(i.find_all(\"p\",class_=\"infoEntity\")[1].text.strip())\n",
    "        old.append(i.find_all(\"p\",class_=\"infoEntity\")[2].text.strip())\n",
    "        try:\n",
    "            employees.append(i.find_all(\"p\",class_=\"infoEntity\")[3].text.strip())\n",
    "        except:\n",
    "            employees.append(np.nan)\n",
    "        d={\"name\":name,\"rating\":rating,\"reviews\":review,\"ctype\":ctype,\"hq\":hq,\"old\":old,\"employees\":employees}\n",
    "        df=pd.DataFrame(d)\n",
    "        new_df=new_df.append(df,ignore_index=True)"
   ]
  },
  {
   "cell_type": "code",
   "execution_count": null,
   "id": "abeac578",
   "metadata": {},
   "outputs": [],
   "source": [
    "new_df"
   ]
  },
  {
   "cell_type": "code",
   "execution_count": null,
   "id": "0e493aa9",
   "metadata": {},
   "outputs": [],
   "source": [
    "review=[]\n",
    "for i in new_df.reviews:\n",
    "#     a.append(re.sub(pattern,\" \",i))\n",
    "      \n",
    "      review.append(str(i)[1:-1])\n",
    "review"
   ]
  },
  {
   "cell_type": "code",
   "execution_count": null,
   "id": "0d5daabb",
   "metadata": {},
   "outputs": [],
   "source": []
  }
 ],
 "metadata": {
  "kernelspec": {
   "display_name": "Python 3 (ipykernel)",
   "language": "python",
   "name": "python3"
  },
  "language_info": {
   "codemirror_mode": {
    "name": "ipython",
    "version": 3
   },
   "file_extension": ".py",
   "mimetype": "text/x-python",
   "name": "python",
   "nbconvert_exporter": "python",
   "pygments_lexer": "ipython3",
   "version": "3.9.7"
  }
 },
 "nbformat": 4,
 "nbformat_minor": 5
}
